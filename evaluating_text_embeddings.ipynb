{
 "cells": [
  {
   "cell_type": "code",
   "execution_count": 31,
   "metadata": {},
   "outputs": [],
   "source": [
    "from pathlib import Path\n",
    "import pandas as pd"
   ]
  },
  {
   "cell_type": "code",
   "execution_count": 2,
   "metadata": {},
   "outputs": [],
   "source": [
    "DATA = Path(\"../data\")"
   ]
  },
  {
   "cell_type": "code",
   "execution_count": 3,
   "metadata": {},
   "outputs": [
    {
     "name": "stdout",
     "output_type": "stream",
     "text": [
      "50.vec\r\n"
     ]
    }
   ],
   "source": [
    "#curl https://raw.githubusercontent.com/iamyuanchung/speech2vec-pretrained-vectors/master/speech2vec/100.vec > 100.vec"
   ]
  },
  {
   "cell_type": "code",
   "execution_count": 3,
   "metadata": {},
   "outputs": [],
   "source": [
    "from gensim.models import KeyedVectors\n",
    "from web.embedding import Embedding, Vocabulary"
   ]
  },
  {
   "cell_type": "code",
   "execution_count": 5,
   "metadata": {},
   "outputs": [],
   "source": [
    "speech2vec = KeyedVectors.load_word2vec_format(DATA/'50.vec', binary=False) "
   ]
  },
  {
   "cell_type": "code",
   "execution_count": 6,
   "metadata": {},
   "outputs": [],
   "source": [
    "speech2vec_embeddings = Embedding(Vocabulary(list(speech2vec.vocab.keys())), speech2vec.vectors)"
   ]
  },
  {
   "cell_type": "code",
   "execution_count": 16,
   "metadata": {
    "scrolled": true
   },
   "outputs": [],
   "source": [
    "from web.datasets.similarity import fetch_MEN, fetch_WS353, fetch_SimLex999\n",
    "from web.evaluate import evaluate_similarity, evaluate_on_all"
   ]
  },
  {
   "cell_type": "code",
   "execution_count": 5,
   "metadata": {},
   "outputs": [],
   "source": [
    "tasks = {\n",
    "    \"MEN\": fetch_MEN(),\n",
    "    \"WS353\": fetch_WS353(),\n",
    "    \"SIMLEX999\": fetch_SimLex999() #https://fh295.github.io/simlex.html\n",
    "}"
   ]
  },
  {
   "cell_type": "code",
   "execution_count": 6,
   "metadata": {
    "scrolled": true
   },
   "outputs": [
    {
     "name": "stdout",
     "output_type": "stream",
     "text": [
      "name: MEN, datay ['automobile' 'car'], datay [10.]\n",
      "name: WS353, datay ['tiger' 'cat'], datay 7.35\n",
      "name: SIMLEX999, datay ['smart' 'intelligent'], datay 9.2\n"
     ]
    }
   ],
   "source": [
    "for name, data in tasks.items():\n",
    "    print(f\"name: {name}, datay {data.X[1]}, datay {data.y[1]}\")"
   ]
  },
  {
   "cell_type": "code",
   "execution_count": 10,
   "metadata": {},
   "outputs": [],
   "source": [
    "def embdedding_from_vec(path):\n",
    "    speech2vec = KeyedVectors.load_word2vec_format(path, binary=False)\n",
    "    return Embedding(Vocabulary(list(speech2vec.vocab.keys())), speech2vec.vectors)\n",
    "    "
   ]
  },
  {
   "cell_type": "code",
   "execution_count": 11,
   "metadata": {},
   "outputs": [],
   "source": [
    "def evaluate_similarity(embedding, tasks):\n",
    "    for name, data in tasks.items():\n",
    "        print(\"Spearman correlation:{} {}\".format(name, evaluate_similarity(embedding, data.X, data.y)))\n",
    "    "
   ]
  },
  {
   "cell_type": "code",
   "execution_count": 23,
   "metadata": {
    "scrolled": true
   },
   "outputs": [
    {
     "name": "stderr",
     "output_type": "stream",
     "text": [
      "Missing 392 words. Will replace them with mean vector\n",
      "/home/shaun/personal/earth-species-project/.esp-env/lib/python3.6/site-packages/web-0.0.1-py3.6.egg/web/evaluate.py:336: FutureWarning: arrays to stack must be passed as a \"sequence\" type such as list or tuple. Support for non-sequence iterables such as generators is deprecated as of NumPy 1.16 and will raise an error in the future.\n",
      "  A = np.vstack(w.get(word, mean_vector) for word in X[:, 0])\n",
      "/home/shaun/personal/earth-species-project/.esp-env/lib/python3.6/site-packages/web-0.0.1-py3.6.egg/web/evaluate.py:337: FutureWarning: arrays to stack must be passed as a \"sequence\" type such as list or tuple. Support for non-sequence iterables such as generators is deprecated as of NumPy 1.16 and will raise an error in the future.\n",
      "  B = np.vstack(w.get(word, mean_vector) for word in X[:, 1])\n",
      "Missing 61 words. Will replace them with mean vector\n",
      "Missing 40 words. Will replace them with mean vector\n",
      "Missing 32 words. Will replace them with mean vector\n",
      "Missing 24 words. Will replace them with mean vector\n",
      "Missing 1605 words. Will replace them with mean vector\n",
      "Missing 46 words. Will replace them with mean vector\n",
      "Missing 16544 words. Will replace them with mean vector\n",
      "/home/shaun/personal/earth-species-project/.esp-env/lib/python3.6/site-packages/web-0.0.1-py3.6.egg/web/analogy.py:105: FutureWarning: arrays to stack must be passed as a \"sequence\" type such as list or tuple. Support for non-sequence iterables such as generators is deprecated as of NumPy 1.16 and will raise an error in the future.\n",
      "  A, B, C = np.vstack(w.get(word, mean_vector) for word in X_b[:, 0]), \\\n",
      "/home/shaun/personal/earth-species-project/.esp-env/lib/python3.6/site-packages/web-0.0.1-py3.6.egg/web/analogy.py:106: FutureWarning: arrays to stack must be passed as a \"sequence\" type such as list or tuple. Support for non-sequence iterables such as generators is deprecated as of NumPy 1.16 and will raise an error in the future.\n",
      "  np.vstack(w.get(word, mean_vector) for word in X_b[:, 1]), \\\n",
      "/home/shaun/personal/earth-species-project/.esp-env/lib/python3.6/site-packages/web-0.0.1-py3.6.egg/web/analogy.py:107: FutureWarning: arrays to stack must be passed as a \"sequence\" type such as list or tuple. Support for non-sequence iterables such as generators is deprecated as of NumPy 1.16 and will raise an error in the future.\n",
      "  np.vstack(w.get(word, mean_vector) for word in X_b[:, 2])\n",
      "Missing 1985 words. Will replace them with mean vector\n",
      "/home/shaun/personal/earth-species-project/.esp-env/lib/python3.6/site-packages/web-0.0.1-py3.6.egg/web/evaluate.py:143: FutureWarning: arrays to stack must be passed as a \"sequence\" type such as list or tuple. Support for non-sequence iterables such as generators is deprecated as of NumPy 1.16 and will raise an error in the future.\n",
      "  prot_left = np.mean(np.vstack(w.get(word, mean_vector) for word in prototypes[:, 0]), axis=0)\n",
      "/home/shaun/personal/earth-species-project/.esp-env/lib/python3.6/site-packages/web-0.0.1-py3.6.egg/web/evaluate.py:144: FutureWarning: arrays to stack must be passed as a \"sequence\" type such as list or tuple. Support for non-sequence iterables such as generators is deprecated as of NumPy 1.16 and will raise an error in the future.\n",
      "  prot_right = np.mean(np.vstack(w.get(word, mean_vector) for word in prototypes[:, 1]), axis=0)\n",
      "/home/shaun/personal/earth-species-project/.esp-env/lib/python3.6/site-packages/web-0.0.1-py3.6.egg/web/evaluate.py:147: FutureWarning: arrays to stack must be passed as a \"sequence\" type such as list or tuple. Support for non-sequence iterables such as generators is deprecated as of NumPy 1.16 and will raise an error in the future.\n",
      "  question_left, question_right = np.vstack(w.get(word, mean_vector) for word in questions[:, 0]), \\\n",
      "/home/shaun/personal/earth-species-project/.esp-env/lib/python3.6/site-packages/web-0.0.1-py3.6.egg/web/evaluate.py:148: FutureWarning: arrays to stack must be passed as a \"sequence\" type such as list or tuple. Support for non-sequence iterables such as generators is deprecated as of NumPy 1.16 and will raise an error in the future.\n",
      "  np.vstack(w.get(word, mean_vector) for word in questions[:, 1])\n",
      "/home/shaun/personal/earth-species-project/.esp-env/lib/python3.6/site-packages/web-0.0.1-py3.6.egg/web/evaluate.py:88: FutureWarning: arrays to stack must be passed as a \"sequence\" type such as list or tuple. Support for non-sequence iterables such as generators is deprecated as of NumPy 1.16 and will raise an error in the future.\n",
      "  words = np.vstack(w.get(word, mean_vector) for word in X.flatten())\n",
      "/home/shaun/personal/earth-species-project/.esp-env/lib/python3.6/site-packages/web-0.0.1-py3.6.egg/web/evaluate.py:88: FutureWarning: arrays to stack must be passed as a \"sequence\" type such as list or tuple. Support for non-sequence iterables such as generators is deprecated as of NumPy 1.16 and will raise an error in the future.\n",
      "  words = np.vstack(w.get(word, mean_vector) for word in X.flatten())\n",
      "/home/shaun/personal/earth-species-project/.esp-env/lib/python3.6/site-packages/web-0.0.1-py3.6.egg/web/evaluate.py:88: FutureWarning: arrays to stack must be passed as a \"sequence\" type such as list or tuple. Support for non-sequence iterables such as generators is deprecated as of NumPy 1.16 and will raise an error in the future.\n",
      "  words = np.vstack(w.get(word, mean_vector) for word in X.flatten())\n",
      "/home/shaun/personal/earth-species-project/.esp-env/lib/python3.6/site-packages/web-0.0.1-py3.6.egg/web/evaluate.py:88: FutureWarning: arrays to stack must be passed as a \"sequence\" type such as list or tuple. Support for non-sequence iterables such as generators is deprecated as of NumPy 1.16 and will raise an error in the future.\n",
      "  words = np.vstack(w.get(word, mean_vector) for word in X.flatten())\n",
      "/home/shaun/personal/earth-species-project/.esp-env/lib/python3.6/site-packages/web-0.0.1-py3.6.egg/web/evaluate.py:88: FutureWarning: arrays to stack must be passed as a \"sequence\" type such as list or tuple. Support for non-sequence iterables such as generators is deprecated as of NumPy 1.16 and will raise an error in the future.\n",
      "  words = np.vstack(w.get(word, mean_vector) for word in X.flatten())\n",
      "/home/shaun/personal/earth-species-project/.esp-env/lib/python3.6/site-packages/web-0.0.1-py3.6.egg/web/evaluate.py:88: FutureWarning: arrays to stack must be passed as a \"sequence\" type such as list or tuple. Support for non-sequence iterables such as generators is deprecated as of NumPy 1.16 and will raise an error in the future.\n",
      "  words = np.vstack(w.get(word, mean_vector) for word in X.flatten())\n"
     ]
    }
   ],
   "source": [
    "speech2vec_50 = embdedding_from_vec(DATA/'50.vec')\n",
    "vec50_res = evaluate_on_all(speech2vec_50)\n",
    "#evaluate_embedding(speech2vec_50,tasks )\n"
   ]
  },
  {
   "cell_type": "code",
   "execution_count": 26,
   "metadata": {},
   "outputs": [],
   "source": [
    "vec50_res[\"size\"] = 50"
   ]
  },
  {
   "cell_type": "code",
   "execution_count": 20,
   "metadata": {
    "collapsed": true
   },
   "outputs": [
    {
     "name": "stderr",
     "output_type": "stream",
     "text": [
      "Missing 392 words. Will replace them with mean vector\n",
      "/home/shaun/personal/earth-species-project/.esp-env/lib/python3.6/site-packages/web-0.0.1-py3.6.egg/web/evaluate.py:336: FutureWarning: arrays to stack must be passed as a \"sequence\" type such as list or tuple. Support for non-sequence iterables such as generators is deprecated as of NumPy 1.16 and will raise an error in the future.\n",
      "  A = np.vstack(w.get(word, mean_vector) for word in X[:, 0])\n",
      "/home/shaun/personal/earth-species-project/.esp-env/lib/python3.6/site-packages/web-0.0.1-py3.6.egg/web/evaluate.py:337: FutureWarning: arrays to stack must be passed as a \"sequence\" type such as list or tuple. Support for non-sequence iterables such as generators is deprecated as of NumPy 1.16 and will raise an error in the future.\n",
      "  B = np.vstack(w.get(word, mean_vector) for word in X[:, 1])\n",
      "Missing 61 words. Will replace them with mean vector\n",
      "Missing 40 words. Will replace them with mean vector\n",
      "Missing 32 words. Will replace them with mean vector\n",
      "Missing 24 words. Will replace them with mean vector\n",
      "Missing 1605 words. Will replace them with mean vector\n",
      "Missing 46 words. Will replace them with mean vector\n",
      "Missing 16544 words. Will replace them with mean vector\n",
      "/home/shaun/personal/earth-species-project/.esp-env/lib/python3.6/site-packages/web-0.0.1-py3.6.egg/web/analogy.py:105: FutureWarning: arrays to stack must be passed as a \"sequence\" type such as list or tuple. Support for non-sequence iterables such as generators is deprecated as of NumPy 1.16 and will raise an error in the future.\n",
      "  A, B, C = np.vstack(w.get(word, mean_vector) for word in X_b[:, 0]), \\\n",
      "/home/shaun/personal/earth-species-project/.esp-env/lib/python3.6/site-packages/web-0.0.1-py3.6.egg/web/analogy.py:106: FutureWarning: arrays to stack must be passed as a \"sequence\" type such as list or tuple. Support for non-sequence iterables such as generators is deprecated as of NumPy 1.16 and will raise an error in the future.\n",
      "  np.vstack(w.get(word, mean_vector) for word in X_b[:, 1]), \\\n",
      "/home/shaun/personal/earth-species-project/.esp-env/lib/python3.6/site-packages/web-0.0.1-py3.6.egg/web/analogy.py:107: FutureWarning: arrays to stack must be passed as a \"sequence\" type such as list or tuple. Support for non-sequence iterables such as generators is deprecated as of NumPy 1.16 and will raise an error in the future.\n",
      "  np.vstack(w.get(word, mean_vector) for word in X_b[:, 2])\n",
      "Missing 1985 words. Will replace them with mean vector\n",
      "/home/shaun/personal/earth-species-project/.esp-env/lib/python3.6/site-packages/web-0.0.1-py3.6.egg/web/evaluate.py:143: FutureWarning: arrays to stack must be passed as a \"sequence\" type such as list or tuple. Support for non-sequence iterables such as generators is deprecated as of NumPy 1.16 and will raise an error in the future.\n",
      "  prot_left = np.mean(np.vstack(w.get(word, mean_vector) for word in prototypes[:, 0]), axis=0)\n",
      "/home/shaun/personal/earth-species-project/.esp-env/lib/python3.6/site-packages/web-0.0.1-py3.6.egg/web/evaluate.py:144: FutureWarning: arrays to stack must be passed as a \"sequence\" type such as list or tuple. Support for non-sequence iterables such as generators is deprecated as of NumPy 1.16 and will raise an error in the future.\n",
      "  prot_right = np.mean(np.vstack(w.get(word, mean_vector) for word in prototypes[:, 1]), axis=0)\n",
      "/home/shaun/personal/earth-species-project/.esp-env/lib/python3.6/site-packages/web-0.0.1-py3.6.egg/web/evaluate.py:147: FutureWarning: arrays to stack must be passed as a \"sequence\" type such as list or tuple. Support for non-sequence iterables such as generators is deprecated as of NumPy 1.16 and will raise an error in the future.\n",
      "  question_left, question_right = np.vstack(w.get(word, mean_vector) for word in questions[:, 0]), \\\n",
      "/home/shaun/personal/earth-species-project/.esp-env/lib/python3.6/site-packages/web-0.0.1-py3.6.egg/web/evaluate.py:148: FutureWarning: arrays to stack must be passed as a \"sequence\" type such as list or tuple. Support for non-sequence iterables such as generators is deprecated as of NumPy 1.16 and will raise an error in the future.\n",
      "  np.vstack(w.get(word, mean_vector) for word in questions[:, 1])\n",
      "/home/shaun/personal/earth-species-project/.esp-env/lib/python3.6/site-packages/web-0.0.1-py3.6.egg/web/evaluate.py:88: FutureWarning: arrays to stack must be passed as a \"sequence\" type such as list or tuple. Support for non-sequence iterables such as generators is deprecated as of NumPy 1.16 and will raise an error in the future.\n",
      "  words = np.vstack(w.get(word, mean_vector) for word in X.flatten())\n",
      "/home/shaun/personal/earth-species-project/.esp-env/lib/python3.6/site-packages/web-0.0.1-py3.6.egg/web/evaluate.py:88: FutureWarning: arrays to stack must be passed as a \"sequence\" type such as list or tuple. Support for non-sequence iterables such as generators is deprecated as of NumPy 1.16 and will raise an error in the future.\n",
      "  words = np.vstack(w.get(word, mean_vector) for word in X.flatten())\n",
      "/home/shaun/personal/earth-species-project/.esp-env/lib/python3.6/site-packages/web-0.0.1-py3.6.egg/web/evaluate.py:88: FutureWarning: arrays to stack must be passed as a \"sequence\" type such as list or tuple. Support for non-sequence iterables such as generators is deprecated as of NumPy 1.16 and will raise an error in the future.\n",
      "  words = np.vstack(w.get(word, mean_vector) for word in X.flatten())\n",
      "/home/shaun/personal/earth-species-project/.esp-env/lib/python3.6/site-packages/web-0.0.1-py3.6.egg/web/evaluate.py:88: FutureWarning: arrays to stack must be passed as a \"sequence\" type such as list or tuple. Support for non-sequence iterables such as generators is deprecated as of NumPy 1.16 and will raise an error in the future.\n",
      "  words = np.vstack(w.get(word, mean_vector) for word in X.flatten())\n",
      "/home/shaun/personal/earth-species-project/.esp-env/lib/python3.6/site-packages/web-0.0.1-py3.6.egg/web/evaluate.py:88: FutureWarning: arrays to stack must be passed as a \"sequence\" type such as list or tuple. Support for non-sequence iterables such as generators is deprecated as of NumPy 1.16 and will raise an error in the future.\n",
      "  words = np.vstack(w.get(word, mean_vector) for word in X.flatten())\n",
      "/home/shaun/personal/earth-species-project/.esp-env/lib/python3.6/site-packages/web-0.0.1-py3.6.egg/web/evaluate.py:88: FutureWarning: arrays to stack must be passed as a \"sequence\" type such as list or tuple. Support for non-sequence iterables such as generators is deprecated as of NumPy 1.16 and will raise an error in the future.\n",
      "  words = np.vstack(w.get(word, mean_vector) for word in X.flatten())\n"
     ]
    }
   ],
   "source": [
    "speech2vec_100 = embdedding_from_vec(DATA/'100.vec')\n",
    "#evaluatesimilarity(speech2vec_100,task)\n",
    "vec100_res = evaluate_on_all(speech2vec_100)"
   ]
  },
  {
   "cell_type": "code",
   "execution_count": 27,
   "metadata": {},
   "outputs": [],
   "source": [
    "vec100_res[\"size\"] = 100"
   ]
  },
  {
   "cell_type": "code",
   "execution_count": 21,
   "metadata": {
    "collapsed": true
   },
   "outputs": [
    {
     "name": "stderr",
     "output_type": "stream",
     "text": [
      "Missing 392 words. Will replace them with mean vector\n",
      "/home/shaun/personal/earth-species-project/.esp-env/lib/python3.6/site-packages/web-0.0.1-py3.6.egg/web/evaluate.py:336: FutureWarning: arrays to stack must be passed as a \"sequence\" type such as list or tuple. Support for non-sequence iterables such as generators is deprecated as of NumPy 1.16 and will raise an error in the future.\n",
      "  A = np.vstack(w.get(word, mean_vector) for word in X[:, 0])\n",
      "/home/shaun/personal/earth-species-project/.esp-env/lib/python3.6/site-packages/web-0.0.1-py3.6.egg/web/evaluate.py:337: FutureWarning: arrays to stack must be passed as a \"sequence\" type such as list or tuple. Support for non-sequence iterables such as generators is deprecated as of NumPy 1.16 and will raise an error in the future.\n",
      "  B = np.vstack(w.get(word, mean_vector) for word in X[:, 1])\n",
      "Missing 61 words. Will replace them with mean vector\n",
      "Missing 40 words. Will replace them with mean vector\n",
      "Missing 32 words. Will replace them with mean vector\n",
      "Missing 24 words. Will replace them with mean vector\n",
      "Missing 1605 words. Will replace them with mean vector\n",
      "Missing 46 words. Will replace them with mean vector\n",
      "Missing 16544 words. Will replace them with mean vector\n",
      "/home/shaun/personal/earth-species-project/.esp-env/lib/python3.6/site-packages/web-0.0.1-py3.6.egg/web/analogy.py:105: FutureWarning: arrays to stack must be passed as a \"sequence\" type such as list or tuple. Support for non-sequence iterables such as generators is deprecated as of NumPy 1.16 and will raise an error in the future.\n",
      "  A, B, C = np.vstack(w.get(word, mean_vector) for word in X_b[:, 0]), \\\n",
      "/home/shaun/personal/earth-species-project/.esp-env/lib/python3.6/site-packages/web-0.0.1-py3.6.egg/web/analogy.py:106: FutureWarning: arrays to stack must be passed as a \"sequence\" type such as list or tuple. Support for non-sequence iterables such as generators is deprecated as of NumPy 1.16 and will raise an error in the future.\n",
      "  np.vstack(w.get(word, mean_vector) for word in X_b[:, 1]), \\\n",
      "/home/shaun/personal/earth-species-project/.esp-env/lib/python3.6/site-packages/web-0.0.1-py3.6.egg/web/analogy.py:107: FutureWarning: arrays to stack must be passed as a \"sequence\" type such as list or tuple. Support for non-sequence iterables such as generators is deprecated as of NumPy 1.16 and will raise an error in the future.\n",
      "  np.vstack(w.get(word, mean_vector) for word in X_b[:, 2])\n",
      "Missing 1985 words. Will replace them with mean vector\n",
      "/home/shaun/personal/earth-species-project/.esp-env/lib/python3.6/site-packages/web-0.0.1-py3.6.egg/web/evaluate.py:143: FutureWarning: arrays to stack must be passed as a \"sequence\" type such as list or tuple. Support for non-sequence iterables such as generators is deprecated as of NumPy 1.16 and will raise an error in the future.\n",
      "  prot_left = np.mean(np.vstack(w.get(word, mean_vector) for word in prototypes[:, 0]), axis=0)\n",
      "/home/shaun/personal/earth-species-project/.esp-env/lib/python3.6/site-packages/web-0.0.1-py3.6.egg/web/evaluate.py:144: FutureWarning: arrays to stack must be passed as a \"sequence\" type such as list or tuple. Support for non-sequence iterables such as generators is deprecated as of NumPy 1.16 and will raise an error in the future.\n",
      "  prot_right = np.mean(np.vstack(w.get(word, mean_vector) for word in prototypes[:, 1]), axis=0)\n",
      "/home/shaun/personal/earth-species-project/.esp-env/lib/python3.6/site-packages/web-0.0.1-py3.6.egg/web/evaluate.py:147: FutureWarning: arrays to stack must be passed as a \"sequence\" type such as list or tuple. Support for non-sequence iterables such as generators is deprecated as of NumPy 1.16 and will raise an error in the future.\n",
      "  question_left, question_right = np.vstack(w.get(word, mean_vector) for word in questions[:, 0]), \\\n",
      "/home/shaun/personal/earth-species-project/.esp-env/lib/python3.6/site-packages/web-0.0.1-py3.6.egg/web/evaluate.py:148: FutureWarning: arrays to stack must be passed as a \"sequence\" type such as list or tuple. Support for non-sequence iterables such as generators is deprecated as of NumPy 1.16 and will raise an error in the future.\n",
      "  np.vstack(w.get(word, mean_vector) for word in questions[:, 1])\n",
      "/home/shaun/personal/earth-species-project/.esp-env/lib/python3.6/site-packages/web-0.0.1-py3.6.egg/web/evaluate.py:88: FutureWarning: arrays to stack must be passed as a \"sequence\" type such as list or tuple. Support for non-sequence iterables such as generators is deprecated as of NumPy 1.16 and will raise an error in the future.\n",
      "  words = np.vstack(w.get(word, mean_vector) for word in X.flatten())\n",
      "/home/shaun/personal/earth-species-project/.esp-env/lib/python3.6/site-packages/web-0.0.1-py3.6.egg/web/evaluate.py:88: FutureWarning: arrays to stack must be passed as a \"sequence\" type such as list or tuple. Support for non-sequence iterables such as generators is deprecated as of NumPy 1.16 and will raise an error in the future.\n",
      "  words = np.vstack(w.get(word, mean_vector) for word in X.flatten())\n",
      "/home/shaun/personal/earth-species-project/.esp-env/lib/python3.6/site-packages/web-0.0.1-py3.6.egg/web/evaluate.py:88: FutureWarning: arrays to stack must be passed as a \"sequence\" type such as list or tuple. Support for non-sequence iterables such as generators is deprecated as of NumPy 1.16 and will raise an error in the future.\n",
      "  words = np.vstack(w.get(word, mean_vector) for word in X.flatten())\n",
      "/home/shaun/personal/earth-species-project/.esp-env/lib/python3.6/site-packages/web-0.0.1-py3.6.egg/web/evaluate.py:88: FutureWarning: arrays to stack must be passed as a \"sequence\" type such as list or tuple. Support for non-sequence iterables such as generators is deprecated as of NumPy 1.16 and will raise an error in the future.\n",
      "  words = np.vstack(w.get(word, mean_vector) for word in X.flatten())\n",
      "/home/shaun/personal/earth-species-project/.esp-env/lib/python3.6/site-packages/web-0.0.1-py3.6.egg/web/evaluate.py:88: FutureWarning: arrays to stack must be passed as a \"sequence\" type such as list or tuple. Support for non-sequence iterables such as generators is deprecated as of NumPy 1.16 and will raise an error in the future.\n",
      "  words = np.vstack(w.get(word, mean_vector) for word in X.flatten())\n",
      "/home/shaun/personal/earth-species-project/.esp-env/lib/python3.6/site-packages/web-0.0.1-py3.6.egg/web/evaluate.py:88: FutureWarning: arrays to stack must be passed as a \"sequence\" type such as list or tuple. Support for non-sequence iterables such as generators is deprecated as of NumPy 1.16 and will raise an error in the future.\n",
      "  words = np.vstack(w.get(word, mean_vector) for word in X.flatten())\n"
     ]
    }
   ],
   "source": [
    "speech2vec_200 = embdedding_from_vec(DATA/'200.vec')\n",
    "#evaluate_similarity(speech2vec_200,tasks )\n",
    "vec200_res = evaluate_on_all(speech2vec_200)"
   ]
  },
  {
   "cell_type": "code",
   "execution_count": 28,
   "metadata": {},
   "outputs": [],
   "source": [
    "vec200_res[\"size\"] = 200"
   ]
  },
  {
   "cell_type": "code",
   "execution_count": 22,
   "metadata": {
    "scrolled": true
   },
   "outputs": [
    {
     "name": "stderr",
     "output_type": "stream",
     "text": [
      "Missing 392 words. Will replace them with mean vector\n",
      "/home/shaun/personal/earth-species-project/.esp-env/lib/python3.6/site-packages/web-0.0.1-py3.6.egg/web/evaluate.py:336: FutureWarning: arrays to stack must be passed as a \"sequence\" type such as list or tuple. Support for non-sequence iterables such as generators is deprecated as of NumPy 1.16 and will raise an error in the future.\n",
      "  A = np.vstack(w.get(word, mean_vector) for word in X[:, 0])\n",
      "/home/shaun/personal/earth-species-project/.esp-env/lib/python3.6/site-packages/web-0.0.1-py3.6.egg/web/evaluate.py:337: FutureWarning: arrays to stack must be passed as a \"sequence\" type such as list or tuple. Support for non-sequence iterables such as generators is deprecated as of NumPy 1.16 and will raise an error in the future.\n",
      "  B = np.vstack(w.get(word, mean_vector) for word in X[:, 1])\n",
      "Missing 61 words. Will replace them with mean vector\n",
      "Missing 40 words. Will replace them with mean vector\n",
      "Missing 32 words. Will replace them with mean vector\n",
      "Missing 24 words. Will replace them with mean vector\n",
      "Missing 1605 words. Will replace them with mean vector\n",
      "Missing 46 words. Will replace them with mean vector\n",
      "Missing 16544 words. Will replace them with mean vector\n",
      "/home/shaun/personal/earth-species-project/.esp-env/lib/python3.6/site-packages/web-0.0.1-py3.6.egg/web/analogy.py:105: FutureWarning: arrays to stack must be passed as a \"sequence\" type such as list or tuple. Support for non-sequence iterables such as generators is deprecated as of NumPy 1.16 and will raise an error in the future.\n",
      "  A, B, C = np.vstack(w.get(word, mean_vector) for word in X_b[:, 0]), \\\n",
      "/home/shaun/personal/earth-species-project/.esp-env/lib/python3.6/site-packages/web-0.0.1-py3.6.egg/web/analogy.py:106: FutureWarning: arrays to stack must be passed as a \"sequence\" type such as list or tuple. Support for non-sequence iterables such as generators is deprecated as of NumPy 1.16 and will raise an error in the future.\n",
      "  np.vstack(w.get(word, mean_vector) for word in X_b[:, 1]), \\\n",
      "/home/shaun/personal/earth-species-project/.esp-env/lib/python3.6/site-packages/web-0.0.1-py3.6.egg/web/analogy.py:107: FutureWarning: arrays to stack must be passed as a \"sequence\" type such as list or tuple. Support for non-sequence iterables such as generators is deprecated as of NumPy 1.16 and will raise an error in the future.\n",
      "  np.vstack(w.get(word, mean_vector) for word in X_b[:, 2])\n",
      "Missing 1985 words. Will replace them with mean vector\n",
      "/home/shaun/personal/earth-species-project/.esp-env/lib/python3.6/site-packages/web-0.0.1-py3.6.egg/web/evaluate.py:143: FutureWarning: arrays to stack must be passed as a \"sequence\" type such as list or tuple. Support for non-sequence iterables such as generators is deprecated as of NumPy 1.16 and will raise an error in the future.\n",
      "  prot_left = np.mean(np.vstack(w.get(word, mean_vector) for word in prototypes[:, 0]), axis=0)\n",
      "/home/shaun/personal/earth-species-project/.esp-env/lib/python3.6/site-packages/web-0.0.1-py3.6.egg/web/evaluate.py:144: FutureWarning: arrays to stack must be passed as a \"sequence\" type such as list or tuple. Support for non-sequence iterables such as generators is deprecated as of NumPy 1.16 and will raise an error in the future.\n",
      "  prot_right = np.mean(np.vstack(w.get(word, mean_vector) for word in prototypes[:, 1]), axis=0)\n",
      "/home/shaun/personal/earth-species-project/.esp-env/lib/python3.6/site-packages/web-0.0.1-py3.6.egg/web/evaluate.py:147: FutureWarning: arrays to stack must be passed as a \"sequence\" type such as list or tuple. Support for non-sequence iterables such as generators is deprecated as of NumPy 1.16 and will raise an error in the future.\n",
      "  question_left, question_right = np.vstack(w.get(word, mean_vector) for word in questions[:, 0]), \\\n",
      "/home/shaun/personal/earth-species-project/.esp-env/lib/python3.6/site-packages/web-0.0.1-py3.6.egg/web/evaluate.py:148: FutureWarning: arrays to stack must be passed as a \"sequence\" type such as list or tuple. Support for non-sequence iterables such as generators is deprecated as of NumPy 1.16 and will raise an error in the future.\n",
      "  np.vstack(w.get(word, mean_vector) for word in questions[:, 1])\n",
      "/home/shaun/personal/earth-species-project/.esp-env/lib/python3.6/site-packages/web-0.0.1-py3.6.egg/web/evaluate.py:88: FutureWarning: arrays to stack must be passed as a \"sequence\" type such as list or tuple. Support for non-sequence iterables such as generators is deprecated as of NumPy 1.16 and will raise an error in the future.\n",
      "  words = np.vstack(w.get(word, mean_vector) for word in X.flatten())\n",
      "/home/shaun/personal/earth-species-project/.esp-env/lib/python3.6/site-packages/web-0.0.1-py3.6.egg/web/evaluate.py:88: FutureWarning: arrays to stack must be passed as a \"sequence\" type such as list or tuple. Support for non-sequence iterables such as generators is deprecated as of NumPy 1.16 and will raise an error in the future.\n",
      "  words = np.vstack(w.get(word, mean_vector) for word in X.flatten())\n",
      "/home/shaun/personal/earth-species-project/.esp-env/lib/python3.6/site-packages/web-0.0.1-py3.6.egg/web/evaluate.py:88: FutureWarning: arrays to stack must be passed as a \"sequence\" type such as list or tuple. Support for non-sequence iterables such as generators is deprecated as of NumPy 1.16 and will raise an error in the future.\n",
      "  words = np.vstack(w.get(word, mean_vector) for word in X.flatten())\n",
      "/home/shaun/personal/earth-species-project/.esp-env/lib/python3.6/site-packages/web-0.0.1-py3.6.egg/web/evaluate.py:88: FutureWarning: arrays to stack must be passed as a \"sequence\" type such as list or tuple. Support for non-sequence iterables such as generators is deprecated as of NumPy 1.16 and will raise an error in the future.\n",
      "  words = np.vstack(w.get(word, mean_vector) for word in X.flatten())\n",
      "/home/shaun/personal/earth-species-project/.esp-env/lib/python3.6/site-packages/web-0.0.1-py3.6.egg/web/evaluate.py:88: FutureWarning: arrays to stack must be passed as a \"sequence\" type such as list or tuple. Support for non-sequence iterables such as generators is deprecated as of NumPy 1.16 and will raise an error in the future.\n",
      "  words = np.vstack(w.get(word, mean_vector) for word in X.flatten())\n",
      "/home/shaun/personal/earth-species-project/.esp-env/lib/python3.6/site-packages/web-0.0.1-py3.6.egg/web/evaluate.py:88: FutureWarning: arrays to stack must be passed as a \"sequence\" type such as list or tuple. Support for non-sequence iterables such as generators is deprecated as of NumPy 1.16 and will raise an error in the future.\n",
      "  words = np.vstack(w.get(word, mean_vector) for word in X.flatten())\n"
     ]
    }
   ],
   "source": [
    "speech2vec_300 = embdedding_from_vec(DATA/'300.vec')\n",
    "#evaluate_similarity(speech2vec_300,tasks )\n",
    "vec300_res = evaluate_on_all(speech2vec_300)"
   ]
  },
  {
   "cell_type": "code",
   "execution_count": 29,
   "metadata": {},
   "outputs": [],
   "source": [
    "vec300_res[\"size\"] = 300"
   ]
  },
  {
   "cell_type": "code",
   "execution_count": 32,
   "metadata": {
    "scrolled": true
   },
   "outputs": [],
   "source": [
    "joined_res = pd.concat([vec50_res, vec100_res, vec200_res, vec300_res])"
   ]
  },
  {
   "cell_type": "code",
   "execution_count": 33,
   "metadata": {},
   "outputs": [
    {
     "data": {
      "text/html": [
       "<div>\n",
       "<style scoped>\n",
       "    .dataframe tbody tr th:only-of-type {\n",
       "        vertical-align: middle;\n",
       "    }\n",
       "\n",
       "    .dataframe tbody tr th {\n",
       "        vertical-align: top;\n",
       "    }\n",
       "\n",
       "    .dataframe thead th {\n",
       "        text-align: right;\n",
       "    }\n",
       "</style>\n",
       "<table border=\"1\" class=\"dataframe\">\n",
       "  <thead>\n",
       "    <tr style=\"text-align: right;\">\n",
       "      <th></th>\n",
       "      <th>AP</th>\n",
       "      <th>BLESS</th>\n",
       "      <th>Battig</th>\n",
       "      <th>ESSLI_2c</th>\n",
       "      <th>ESSLI_2b</th>\n",
       "      <th>ESSLI_1a</th>\n",
       "      <th>MEN</th>\n",
       "      <th>WS353</th>\n",
       "      <th>WS353R</th>\n",
       "      <th>WS353S</th>\n",
       "      <th>SimLex999</th>\n",
       "      <th>RW</th>\n",
       "      <th>RG65</th>\n",
       "      <th>MTurk</th>\n",
       "      <th>Google</th>\n",
       "      <th>MSR</th>\n",
       "      <th>SemEval2012_2</th>\n",
       "      <th>size</th>\n",
       "    </tr>\n",
       "  </thead>\n",
       "  <tbody>\n",
       "    <tr>\n",
       "      <th>0</th>\n",
       "      <td>0.393035</td>\n",
       "      <td>0.570</td>\n",
       "      <td>0.240489</td>\n",
       "      <td>0.555556</td>\n",
       "      <td>0.775</td>\n",
       "      <td>0.681818</td>\n",
       "      <td>0.589676</td>\n",
       "      <td>0.498902</td>\n",
       "      <td>0.405434</td>\n",
       "      <td>0.611137</td>\n",
       "      <td>0.282026</td>\n",
       "      <td>0.159276</td>\n",
       "      <td>0.857318</td>\n",
       "      <td>0.487032</td>\n",
       "      <td>0.062884</td>\n",
       "      <td>0.048375</td>\n",
       "      <td>0.111238</td>\n",
       "      <td>50</td>\n",
       "    </tr>\n",
       "    <tr>\n",
       "      <th>0</th>\n",
       "      <td>0.383085</td>\n",
       "      <td>0.545</td>\n",
       "      <td>0.236857</td>\n",
       "      <td>0.577778</td>\n",
       "      <td>0.725</td>\n",
       "      <td>0.636364</td>\n",
       "      <td>0.576360</td>\n",
       "      <td>0.523017</td>\n",
       "      <td>0.415852</td>\n",
       "      <td>0.635522</td>\n",
       "      <td>0.313509</td>\n",
       "      <td>0.174390</td>\n",
       "      <td>0.856400</td>\n",
       "      <td>0.469393</td>\n",
       "      <td>0.086369</td>\n",
       "      <td>0.095125</td>\n",
       "      <td>0.107247</td>\n",
       "      <td>100</td>\n",
       "    </tr>\n",
       "    <tr>\n",
       "      <th>0</th>\n",
       "      <td>0.360697</td>\n",
       "      <td>0.560</td>\n",
       "      <td>0.227490</td>\n",
       "      <td>0.555556</td>\n",
       "      <td>0.750</td>\n",
       "      <td>0.636364</td>\n",
       "      <td>0.544992</td>\n",
       "      <td>0.532121</td>\n",
       "      <td>0.416982</td>\n",
       "      <td>0.625982</td>\n",
       "      <td>0.312688</td>\n",
       "      <td>0.175547</td>\n",
       "      <td>0.795052</td>\n",
       "      <td>0.434428</td>\n",
       "      <td>0.096705</td>\n",
       "      <td>0.119875</td>\n",
       "      <td>0.118042</td>\n",
       "      <td>200</td>\n",
       "    </tr>\n",
       "    <tr>\n",
       "      <th>0</th>\n",
       "      <td>0.378109</td>\n",
       "      <td>0.535</td>\n",
       "      <td>0.216402</td>\n",
       "      <td>0.577778</td>\n",
       "      <td>0.750</td>\n",
       "      <td>0.545455</td>\n",
       "      <td>0.518651</td>\n",
       "      <td>0.500512</td>\n",
       "      <td>0.373748</td>\n",
       "      <td>0.594770</td>\n",
       "      <td>0.322339</td>\n",
       "      <td>0.169607</td>\n",
       "      <td>0.786769</td>\n",
       "      <td>0.430643</td>\n",
       "      <td>0.101412</td>\n",
       "      <td>0.134000</td>\n",
       "      <td>0.104159</td>\n",
       "      <td>300</td>\n",
       "    </tr>\n",
       "  </tbody>\n",
       "</table>\n",
       "</div>"
      ],
      "text/plain": [
       "         AP  BLESS    Battig  ESSLI_2c  ESSLI_2b  ESSLI_1a       MEN  \\\n",
       "0  0.393035  0.570  0.240489  0.555556     0.775  0.681818  0.589676   \n",
       "0  0.383085  0.545  0.236857  0.577778     0.725  0.636364  0.576360   \n",
       "0  0.360697  0.560  0.227490  0.555556     0.750  0.636364  0.544992   \n",
       "0  0.378109  0.535  0.216402  0.577778     0.750  0.545455  0.518651   \n",
       "\n",
       "      WS353    WS353R    WS353S  SimLex999        RW      RG65     MTurk  \\\n",
       "0  0.498902  0.405434  0.611137   0.282026  0.159276  0.857318  0.487032   \n",
       "0  0.523017  0.415852  0.635522   0.313509  0.174390  0.856400  0.469393   \n",
       "0  0.532121  0.416982  0.625982   0.312688  0.175547  0.795052  0.434428   \n",
       "0  0.500512  0.373748  0.594770   0.322339  0.169607  0.786769  0.430643   \n",
       "\n",
       "     Google       MSR  SemEval2012_2  size  \n",
       "0  0.062884  0.048375       0.111238    50  \n",
       "0  0.086369  0.095125       0.107247   100  \n",
       "0  0.096705  0.119875       0.118042   200  \n",
       "0  0.101412  0.134000       0.104159   300  "
      ]
     },
     "execution_count": 33,
     "metadata": {},
     "output_type": "execute_result"
    }
   ],
   "source": [
    "joined_res"
   ]
  },
  {
   "cell_type": "code",
   "execution_count": null,
   "metadata": {},
   "outputs": [],
   "source": []
  }
 ],
 "metadata": {
  "kernelspec": {
   "display_name": "Python 3",
   "language": "python",
   "name": "python3"
  },
  "language_info": {
   "codemirror_mode": {
    "name": "ipython",
    "version": 3
   },
   "file_extension": ".py",
   "mimetype": "text/x-python",
   "name": "python",
   "nbconvert_exporter": "python",
   "pygments_lexer": "ipython3",
   "version": "3.6.9"
  }
 },
 "nbformat": 4,
 "nbformat_minor": 4
}
