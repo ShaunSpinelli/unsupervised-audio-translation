{
 "cells": [
  {
   "cell_type": "code",
   "execution_count": 45,
   "metadata": {},
   "outputs": [],
   "source": [
    "from pathlib import Path\n",
    "import pandas as pd"
   ]
  },
  {
   "cell_type": "code",
   "execution_count": 46,
   "metadata": {},
   "outputs": [],
   "source": [
    "DATA = Path(\"../data\")"
   ]
  },
  {
   "cell_type": "code",
   "execution_count": 47,
   "metadata": {},
   "outputs": [],
   "source": [
    "#curl https://raw.githubusercontent.com/iamyuanchung/speech2vec-pretrained-vectors/master/speech2vec/100.vec > 100.vec"
   ]
  },
  {
   "cell_type": "code",
   "execution_count": 48,
   "metadata": {},
   "outputs": [],
   "source": [
    "from gensim.models import KeyedVectors\n",
    "from web.embedding import Embedding, Vocabulary"
   ]
  },
  {
   "cell_type": "code",
   "execution_count": 49,
   "metadata": {},
   "outputs": [],
   "source": [
    "speech2vec = KeyedVectors.load_word2vec_format(DATA/'50.vec', binary=False) "
   ]
  },
  {
   "cell_type": "code",
   "execution_count": 50,
   "metadata": {},
   "outputs": [],
   "source": [
    "speech2vec_embeddings = Embedding(Vocabulary(list(speech2vec.vocab.keys())), speech2vec.vectors)"
   ]
  },
  {
   "cell_type": "code",
   "execution_count": 51,
   "metadata": {
    "scrolled": true
   },
   "outputs": [],
   "source": [
    "from web.datasets.similarity import *\n",
    "from web.evaluate import evaluate_similarity, evaluate_on_all"
   ]
  },
  {
   "cell_type": "code",
   "execution_count": 52,
   "metadata": {},
   "outputs": [],
   "source": [
    "similarity_tasks = {\n",
    "    \"MEN\": fetch_MEN(),\n",
    "    \"WS353\": fetch_WS353(),\n",
    "    \"SIMLEX999\": fetch_SimLex999(),\n",
    "    \"RG65\":fetch_RG65(),\n",
    "}"
   ]
  },
  {
   "cell_type": "code",
   "execution_count": 53,
   "metadata": {
    "scrolled": true
   },
   "outputs": [
    {
     "name": "stdout",
     "output_type": "stream",
     "text": [
      "Datset: MEN, Pair:(automobile,car), Similarity Score: [10.]\n",
      "Datset: WS353, Pair:(tiger,cat), Similarity Score: 7.35\n",
      "Datset: SIMLEX999, Pair:(smart,intelligent), Similarity Score: 9.2\n",
      "Datset: RG65, Pair:(midday,noon), Similarity Score: 9.85\n"
     ]
    }
   ],
   "source": [
    "for name, data in tasks.items():\n",
    "    print(f\"Datset: {name}, Pair:({data.X[1][0]},{data.X[1][1]}), Similarity Score: {data.y[1]}\")"
   ]
  },
  {
   "cell_type": "code",
   "execution_count": 54,
   "metadata": {},
   "outputs": [],
   "source": [
    "def embdedding_from_vec(path):\n",
    "    \"\"\"Create embedding from saved .vec file\"\"\"\n",
    "    speech2vec = KeyedVectors.load_word2vec_format(path, binary=False)\n",
    "    return Embedding(Vocabulary(list(speech2vec.vocab.keys())), speech2vec.vectors)\n",
    "    "
   ]
  },
  {
   "cell_type": "code",
   "execution_count": 55,
   "metadata": {},
   "outputs": [],
   "source": [
    "def run_similarity_tasks(embedding, tasks):\n",
    "    for name, data in tasks.items():\n",
    "        print(\"Spearman correlation: {} {}\".format(name, evaluate_similarity(embedding, data.X, data.y)))\n",
    "    "
   ]
  },
  {
   "cell_type": "code",
   "execution_count": 62,
   "metadata": {
    "scrolled": false
   },
   "outputs": [
    {
     "name": "stderr",
     "output_type": "stream",
     "text": [
      "Missing 392 words. Will replace them with mean vector\n",
      "/home/shaun/personal/earth-species-project/.esp-env/lib/python3.6/site-packages/web-0.0.1-py3.6.egg/web/evaluate.py:336: FutureWarning: arrays to stack must be passed as a \"sequence\" type such as list or tuple. Support for non-sequence iterables such as generators is deprecated as of NumPy 1.16 and will raise an error in the future.\n",
      "  A = np.vstack(w.get(word, mean_vector) for word in X[:, 0])\n",
      "Missing 61 words. Will replace them with mean vector\n",
      "Missing 40 words. Will replace them with mean vector\n",
      "Missing 32 words. Will replace them with mean vector\n",
      "Missing 24 words. Will replace them with mean vector\n",
      "Missing 1605 words. Will replace them with mean vector\n",
      "Missing 46 words. Will replace them with mean vector\n",
      "Missing 16544 words. Will replace them with mean vector\n",
      "/home/shaun/personal/earth-species-project/.esp-env/lib/python3.6/site-packages/web-0.0.1-py3.6.egg/web/analogy.py:105: FutureWarning: arrays to stack must be passed as a \"sequence\" type such as list or tuple. Support for non-sequence iterables such as generators is deprecated as of NumPy 1.16 and will raise an error in the future.\n",
      "  A, B, C = np.vstack(w.get(word, mean_vector) for word in X_b[:, 0]), \\\n",
      "/home/shaun/personal/earth-species-project/.esp-env/lib/python3.6/site-packages/web-0.0.1-py3.6.egg/web/analogy.py:98: DeprecationWarning: generator 'batched' raised StopIteration\n",
      "  for id_batch, batch in enumerate(batched(range(len(X)), self.batch_size)):\n",
      "Missing 1985 words. Will replace them with mean vector\n",
      "/home/shaun/personal/earth-species-project/.esp-env/lib/python3.6/site-packages/web-0.0.1-py3.6.egg/web/evaluate.py:88: FutureWarning: arrays to stack must be passed as a \"sequence\" type such as list or tuple. Support for non-sequence iterables such as generators is deprecated as of NumPy 1.16 and will raise an error in the future.\n",
      "  words = np.vstack(w.get(word, mean_vector) for word in X.flatten())\n",
      "/home/shaun/personal/earth-species-project/.esp-env/lib/python3.6/site-packages/web-0.0.1-py3.6.egg/web/evaluate.py:88: FutureWarning: arrays to stack must be passed as a \"sequence\" type such as list or tuple. Support for non-sequence iterables such as generators is deprecated as of NumPy 1.16 and will raise an error in the future.\n",
      "  words = np.vstack(w.get(word, mean_vector) for word in X.flatten())\n",
      "/home/shaun/personal/earth-species-project/.esp-env/lib/python3.6/site-packages/web-0.0.1-py3.6.egg/web/evaluate.py:88: FutureWarning: arrays to stack must be passed as a \"sequence\" type such as list or tuple. Support for non-sequence iterables such as generators is deprecated as of NumPy 1.16 and will raise an error in the future.\n",
      "  words = np.vstack(w.get(word, mean_vector) for word in X.flatten())\n",
      "/home/shaun/personal/earth-species-project/.esp-env/lib/python3.6/site-packages/web-0.0.1-py3.6.egg/web/evaluate.py:88: FutureWarning: arrays to stack must be passed as a \"sequence\" type such as list or tuple. Support for non-sequence iterables such as generators is deprecated as of NumPy 1.16 and will raise an error in the future.\n",
      "  words = np.vstack(w.get(word, mean_vector) for word in X.flatten())\n",
      "/home/shaun/personal/earth-species-project/.esp-env/lib/python3.6/site-packages/web-0.0.1-py3.6.egg/web/evaluate.py:88: FutureWarning: arrays to stack must be passed as a \"sequence\" type such as list or tuple. Support for non-sequence iterables such as generators is deprecated as of NumPy 1.16 and will raise an error in the future.\n",
      "  words = np.vstack(w.get(word, mean_vector) for word in X.flatten())\n"
     ]
    }
   ],
   "source": [
    "speech2vec_50 = embdedding_from_vec(DATA/'50.vec')\n",
    "#run_similarity_tasks(speech2vec_50,tasks )\n",
    "vec50_res = evaluate_on_all(speech2vec_50)\n",
    "vec50_res[\"size\"] = 50"
   ]
  },
  {
   "cell_type": "code",
   "execution_count": 63,
   "metadata": {},
   "outputs": [
    {
     "name": "stderr",
     "output_type": "stream",
     "text": [
      "Missing 392 words. Will replace them with mean vector\n",
      "/home/shaun/personal/earth-species-project/.esp-env/lib/python3.6/site-packages/web-0.0.1-py3.6.egg/web/evaluate.py:336: FutureWarning: arrays to stack must be passed as a \"sequence\" type such as list or tuple. Support for non-sequence iterables such as generators is deprecated as of NumPy 1.16 and will raise an error in the future.\n",
      "  A = np.vstack(w.get(word, mean_vector) for word in X[:, 0])\n",
      "Missing 61 words. Will replace them with mean vector\n",
      "Missing 40 words. Will replace them with mean vector\n",
      "Missing 32 words. Will replace them with mean vector\n",
      "Missing 24 words. Will replace them with mean vector\n",
      "Missing 1605 words. Will replace them with mean vector\n",
      "Missing 46 words. Will replace them with mean vector\n",
      "Missing 16544 words. Will replace them with mean vector\n",
      "/home/shaun/personal/earth-species-project/.esp-env/lib/python3.6/site-packages/web-0.0.1-py3.6.egg/web/analogy.py:105: FutureWarning: arrays to stack must be passed as a \"sequence\" type such as list or tuple. Support for non-sequence iterables such as generators is deprecated as of NumPy 1.16 and will raise an error in the future.\n",
      "  A, B, C = np.vstack(w.get(word, mean_vector) for word in X_b[:, 0]), \\\n",
      "/home/shaun/personal/earth-species-project/.esp-env/lib/python3.6/site-packages/web-0.0.1-py3.6.egg/web/analogy.py:98: DeprecationWarning: generator 'batched' raised StopIteration\n",
      "  for id_batch, batch in enumerate(batched(range(len(X)), self.batch_size)):\n",
      "Missing 1985 words. Will replace them with mean vector\n",
      "/home/shaun/personal/earth-species-project/.esp-env/lib/python3.6/site-packages/web-0.0.1-py3.6.egg/web/evaluate.py:88: FutureWarning: arrays to stack must be passed as a \"sequence\" type such as list or tuple. Support for non-sequence iterables such as generators is deprecated as of NumPy 1.16 and will raise an error in the future.\n",
      "  words = np.vstack(w.get(word, mean_vector) for word in X.flatten())\n",
      "/home/shaun/personal/earth-species-project/.esp-env/lib/python3.6/site-packages/web-0.0.1-py3.6.egg/web/evaluate.py:88: FutureWarning: arrays to stack must be passed as a \"sequence\" type such as list or tuple. Support for non-sequence iterables such as generators is deprecated as of NumPy 1.16 and will raise an error in the future.\n",
      "  words = np.vstack(w.get(word, mean_vector) for word in X.flatten())\n",
      "/home/shaun/personal/earth-species-project/.esp-env/lib/python3.6/site-packages/web-0.0.1-py3.6.egg/web/evaluate.py:88: FutureWarning: arrays to stack must be passed as a \"sequence\" type such as list or tuple. Support for non-sequence iterables such as generators is deprecated as of NumPy 1.16 and will raise an error in the future.\n",
      "  words = np.vstack(w.get(word, mean_vector) for word in X.flatten())\n",
      "/home/shaun/personal/earth-species-project/.esp-env/lib/python3.6/site-packages/web-0.0.1-py3.6.egg/web/evaluate.py:88: FutureWarning: arrays to stack must be passed as a \"sequence\" type such as list or tuple. Support for non-sequence iterables such as generators is deprecated as of NumPy 1.16 and will raise an error in the future.\n",
      "  words = np.vstack(w.get(word, mean_vector) for word in X.flatten())\n",
      "/home/shaun/personal/earth-species-project/.esp-env/lib/python3.6/site-packages/web-0.0.1-py3.6.egg/web/evaluate.py:88: FutureWarning: arrays to stack must be passed as a \"sequence\" type such as list or tuple. Support for non-sequence iterables such as generators is deprecated as of NumPy 1.16 and will raise an error in the future.\n",
      "  words = np.vstack(w.get(word, mean_vector) for word in X.flatten())\n"
     ]
    }
   ],
   "source": [
    "speech2vec_100 = embdedding_from_vec(DATA/'100.vec')\n",
    "#run_similarity_tasks(speech2vec_100,task)\n",
    "vec100_res = evaluate_on_all(speech2vec_100)\n",
    "vec100_res[\"size\"] = 100"
   ]
  },
  {
   "cell_type": "code",
   "execution_count": 64,
   "metadata": {},
   "outputs": [
    {
     "name": "stderr",
     "output_type": "stream",
     "text": [
      "Missing 392 words. Will replace them with mean vector\n",
      "/home/shaun/personal/earth-species-project/.esp-env/lib/python3.6/site-packages/web-0.0.1-py3.6.egg/web/evaluate.py:336: FutureWarning: arrays to stack must be passed as a \"sequence\" type such as list or tuple. Support for non-sequence iterables such as generators is deprecated as of NumPy 1.16 and will raise an error in the future.\n",
      "  A = np.vstack(w.get(word, mean_vector) for word in X[:, 0])\n",
      "Missing 61 words. Will replace them with mean vector\n",
      "Missing 40 words. Will replace them with mean vector\n",
      "Missing 32 words. Will replace them with mean vector\n",
      "Missing 24 words. Will replace them with mean vector\n",
      "Missing 1605 words. Will replace them with mean vector\n",
      "Missing 46 words. Will replace them with mean vector\n",
      "Missing 16544 words. Will replace them with mean vector\n",
      "/home/shaun/personal/earth-species-project/.esp-env/lib/python3.6/site-packages/web-0.0.1-py3.6.egg/web/analogy.py:105: FutureWarning: arrays to stack must be passed as a \"sequence\" type such as list or tuple. Support for non-sequence iterables such as generators is deprecated as of NumPy 1.16 and will raise an error in the future.\n",
      "  A, B, C = np.vstack(w.get(word, mean_vector) for word in X_b[:, 0]), \\\n",
      "/home/shaun/personal/earth-species-project/.esp-env/lib/python3.6/site-packages/web-0.0.1-py3.6.egg/web/analogy.py:98: DeprecationWarning: generator 'batched' raised StopIteration\n",
      "  for id_batch, batch in enumerate(batched(range(len(X)), self.batch_size)):\n",
      "Missing 1985 words. Will replace them with mean vector\n",
      "/home/shaun/personal/earth-species-project/.esp-env/lib/python3.6/site-packages/web-0.0.1-py3.6.egg/web/evaluate.py:88: FutureWarning: arrays to stack must be passed as a \"sequence\" type such as list or tuple. Support for non-sequence iterables such as generators is deprecated as of NumPy 1.16 and will raise an error in the future.\n",
      "  words = np.vstack(w.get(word, mean_vector) for word in X.flatten())\n",
      "/home/shaun/personal/earth-species-project/.esp-env/lib/python3.6/site-packages/web-0.0.1-py3.6.egg/web/evaluate.py:88: FutureWarning: arrays to stack must be passed as a \"sequence\" type such as list or tuple. Support for non-sequence iterables such as generators is deprecated as of NumPy 1.16 and will raise an error in the future.\n",
      "  words = np.vstack(w.get(word, mean_vector) for word in X.flatten())\n",
      "/home/shaun/personal/earth-species-project/.esp-env/lib/python3.6/site-packages/web-0.0.1-py3.6.egg/web/evaluate.py:88: FutureWarning: arrays to stack must be passed as a \"sequence\" type such as list or tuple. Support for non-sequence iterables such as generators is deprecated as of NumPy 1.16 and will raise an error in the future.\n",
      "  words = np.vstack(w.get(word, mean_vector) for word in X.flatten())\n",
      "/home/shaun/personal/earth-species-project/.esp-env/lib/python3.6/site-packages/web-0.0.1-py3.6.egg/web/evaluate.py:88: FutureWarning: arrays to stack must be passed as a \"sequence\" type such as list or tuple. Support for non-sequence iterables such as generators is deprecated as of NumPy 1.16 and will raise an error in the future.\n",
      "  words = np.vstack(w.get(word, mean_vector) for word in X.flatten())\n",
      "/home/shaun/personal/earth-species-project/.esp-env/lib/python3.6/site-packages/web-0.0.1-py3.6.egg/web/evaluate.py:88: FutureWarning: arrays to stack must be passed as a \"sequence\" type such as list or tuple. Support for non-sequence iterables such as generators is deprecated as of NumPy 1.16 and will raise an error in the future.\n",
      "  words = np.vstack(w.get(word, mean_vector) for word in X.flatten())\n"
     ]
    }
   ],
   "source": [
    "speech2vec_200 = embdedding_from_vec(DATA/'200.vec')\n",
    "#run_similarity_tasks(speech2vec_200,tasks )\n",
    "vec200_res = evaluate_on_all(speech2vec_200)\n",
    "vec200_res[\"size\"] = 200"
   ]
  },
  {
   "cell_type": "code",
   "execution_count": 65,
   "metadata": {},
   "outputs": [
    {
     "name": "stderr",
     "output_type": "stream",
     "text": [
      "Missing 392 words. Will replace them with mean vector\n",
      "/home/shaun/personal/earth-species-project/.esp-env/lib/python3.6/site-packages/web-0.0.1-py3.6.egg/web/evaluate.py:336: FutureWarning: arrays to stack must be passed as a \"sequence\" type such as list or tuple. Support for non-sequence iterables such as generators is deprecated as of NumPy 1.16 and will raise an error in the future.\n",
      "  A = np.vstack(w.get(word, mean_vector) for word in X[:, 0])\n",
      "Missing 61 words. Will replace them with mean vector\n",
      "Missing 40 words. Will replace them with mean vector\n",
      "Missing 32 words. Will replace them with mean vector\n",
      "Missing 24 words. Will replace them with mean vector\n",
      "Missing 1605 words. Will replace them with mean vector\n",
      "Missing 46 words. Will replace them with mean vector\n",
      "Missing 16544 words. Will replace them with mean vector\n",
      "/home/shaun/personal/earth-species-project/.esp-env/lib/python3.6/site-packages/web-0.0.1-py3.6.egg/web/analogy.py:105: FutureWarning: arrays to stack must be passed as a \"sequence\" type such as list or tuple. Support for non-sequence iterables such as generators is deprecated as of NumPy 1.16 and will raise an error in the future.\n",
      "  A, B, C = np.vstack(w.get(word, mean_vector) for word in X_b[:, 0]), \\\n",
      "/home/shaun/personal/earth-species-project/.esp-env/lib/python3.6/site-packages/web-0.0.1-py3.6.egg/web/analogy.py:98: DeprecationWarning: generator 'batched' raised StopIteration\n",
      "  for id_batch, batch in enumerate(batched(range(len(X)), self.batch_size)):\n",
      "Missing 1985 words. Will replace them with mean vector\n",
      "/home/shaun/personal/earth-species-project/.esp-env/lib/python3.6/site-packages/web-0.0.1-py3.6.egg/web/evaluate.py:88: FutureWarning: arrays to stack must be passed as a \"sequence\" type such as list or tuple. Support for non-sequence iterables such as generators is deprecated as of NumPy 1.16 and will raise an error in the future.\n",
      "  words = np.vstack(w.get(word, mean_vector) for word in X.flatten())\n",
      "/home/shaun/personal/earth-species-project/.esp-env/lib/python3.6/site-packages/web-0.0.1-py3.6.egg/web/evaluate.py:88: FutureWarning: arrays to stack must be passed as a \"sequence\" type such as list or tuple. Support for non-sequence iterables such as generators is deprecated as of NumPy 1.16 and will raise an error in the future.\n",
      "  words = np.vstack(w.get(word, mean_vector) for word in X.flatten())\n",
      "/home/shaun/personal/earth-species-project/.esp-env/lib/python3.6/site-packages/web-0.0.1-py3.6.egg/web/evaluate.py:88: FutureWarning: arrays to stack must be passed as a \"sequence\" type such as list or tuple. Support for non-sequence iterables such as generators is deprecated as of NumPy 1.16 and will raise an error in the future.\n",
      "  words = np.vstack(w.get(word, mean_vector) for word in X.flatten())\n",
      "/home/shaun/personal/earth-species-project/.esp-env/lib/python3.6/site-packages/web-0.0.1-py3.6.egg/web/evaluate.py:88: FutureWarning: arrays to stack must be passed as a \"sequence\" type such as list or tuple. Support for non-sequence iterables such as generators is deprecated as of NumPy 1.16 and will raise an error in the future.\n",
      "  words = np.vstack(w.get(word, mean_vector) for word in X.flatten())\n",
      "/home/shaun/personal/earth-species-project/.esp-env/lib/python3.6/site-packages/web-0.0.1-py3.6.egg/web/evaluate.py:88: FutureWarning: arrays to stack must be passed as a \"sequence\" type such as list or tuple. Support for non-sequence iterables such as generators is deprecated as of NumPy 1.16 and will raise an error in the future.\n",
      "  words = np.vstack(w.get(word, mean_vector) for word in X.flatten())\n"
     ]
    }
   ],
   "source": [
    "speech2vec_300 = embdedding_from_vec(DATA/'300.vec')\n",
    "#run_similarity_tasks(speech2vec_300,tasks )\n",
    "vec300_res = evaluate_on_all(speech2vec_300)\n",
    "vec300_res[\"size\"] = 300"
   ]
  },
  {
   "cell_type": "code",
   "execution_count": 66,
   "metadata": {
    "scrolled": true
   },
   "outputs": [],
   "source": [
    "joined_res = pd.concat([vec50_res, vec100_res, vec200_res, vec300_res])"
   ]
  },
  {
   "cell_type": "code",
   "execution_count": 67,
   "metadata": {},
   "outputs": [
    {
     "data": {
      "text/html": [
       "<div>\n",
       "<style scoped>\n",
       "    .dataframe tbody tr th:only-of-type {\n",
       "        vertical-align: middle;\n",
       "    }\n",
       "\n",
       "    .dataframe tbody tr th {\n",
       "        vertical-align: top;\n",
       "    }\n",
       "\n",
       "    .dataframe thead th {\n",
       "        text-align: right;\n",
       "    }\n",
       "</style>\n",
       "<table border=\"1\" class=\"dataframe\">\n",
       "  <thead>\n",
       "    <tr style=\"text-align: right;\">\n",
       "      <th></th>\n",
       "      <th>AP</th>\n",
       "      <th>BLESS</th>\n",
       "      <th>Battig</th>\n",
       "      <th>ESSLI_2c</th>\n",
       "      <th>ESSLI_2b</th>\n",
       "      <th>ESSLI_1a</th>\n",
       "      <th>MEN</th>\n",
       "      <th>WS353</th>\n",
       "      <th>WS353R</th>\n",
       "      <th>WS353S</th>\n",
       "      <th>SimLex999</th>\n",
       "      <th>RW</th>\n",
       "      <th>RG65</th>\n",
       "      <th>MTurk</th>\n",
       "      <th>Google</th>\n",
       "      <th>MSR</th>\n",
       "      <th>SemEval2012_2</th>\n",
       "    </tr>\n",
       "    <tr>\n",
       "      <th>size</th>\n",
       "      <th></th>\n",
       "      <th></th>\n",
       "      <th></th>\n",
       "      <th></th>\n",
       "      <th></th>\n",
       "      <th></th>\n",
       "      <th></th>\n",
       "      <th></th>\n",
       "      <th></th>\n",
       "      <th></th>\n",
       "      <th></th>\n",
       "      <th></th>\n",
       "      <th></th>\n",
       "      <th></th>\n",
       "      <th></th>\n",
       "      <th></th>\n",
       "      <th></th>\n",
       "    </tr>\n",
       "  </thead>\n",
       "  <tbody>\n",
       "    <tr>\n",
       "      <th>50</th>\n",
       "      <td>0.393035</td>\n",
       "      <td>0.570</td>\n",
       "      <td>0.246607</td>\n",
       "      <td>0.555556</td>\n",
       "      <td>0.775</td>\n",
       "      <td>0.704545</td>\n",
       "      <td>0.589676</td>\n",
       "      <td>0.498902</td>\n",
       "      <td>0.405434</td>\n",
       "      <td>0.611137</td>\n",
       "      <td>0.282026</td>\n",
       "      <td>0.159276</td>\n",
       "      <td>0.857318</td>\n",
       "      <td>0.487032</td>\n",
       "      <td>0.062884</td>\n",
       "      <td>0.048375</td>\n",
       "      <td>0.111238</td>\n",
       "    </tr>\n",
       "    <tr>\n",
       "      <th>100</th>\n",
       "      <td>0.383085</td>\n",
       "      <td>0.545</td>\n",
       "      <td>0.236857</td>\n",
       "      <td>0.577778</td>\n",
       "      <td>0.725</td>\n",
       "      <td>0.636364</td>\n",
       "      <td>0.576360</td>\n",
       "      <td>0.523017</td>\n",
       "      <td>0.415852</td>\n",
       "      <td>0.635522</td>\n",
       "      <td>0.313509</td>\n",
       "      <td>0.174390</td>\n",
       "      <td>0.856400</td>\n",
       "      <td>0.469393</td>\n",
       "      <td>0.086369</td>\n",
       "      <td>0.095125</td>\n",
       "      <td>0.107247</td>\n",
       "    </tr>\n",
       "    <tr>\n",
       "      <th>200</th>\n",
       "      <td>0.360697</td>\n",
       "      <td>0.560</td>\n",
       "      <td>0.227490</td>\n",
       "      <td>0.555556</td>\n",
       "      <td>0.750</td>\n",
       "      <td>0.636364</td>\n",
       "      <td>0.544992</td>\n",
       "      <td>0.532121</td>\n",
       "      <td>0.416982</td>\n",
       "      <td>0.625982</td>\n",
       "      <td>0.312688</td>\n",
       "      <td>0.175547</td>\n",
       "      <td>0.795052</td>\n",
       "      <td>0.434428</td>\n",
       "      <td>0.096705</td>\n",
       "      <td>0.119875</td>\n",
       "      <td>0.118042</td>\n",
       "    </tr>\n",
       "    <tr>\n",
       "      <th>300</th>\n",
       "      <td>0.378109</td>\n",
       "      <td>0.535</td>\n",
       "      <td>0.216402</td>\n",
       "      <td>0.577778</td>\n",
       "      <td>0.750</td>\n",
       "      <td>0.545455</td>\n",
       "      <td>0.518651</td>\n",
       "      <td>0.500512</td>\n",
       "      <td>0.373748</td>\n",
       "      <td>0.594770</td>\n",
       "      <td>0.322339</td>\n",
       "      <td>0.169607</td>\n",
       "      <td>0.786769</td>\n",
       "      <td>0.430643</td>\n",
       "      <td>0.101412</td>\n",
       "      <td>0.134000</td>\n",
       "      <td>0.104159</td>\n",
       "    </tr>\n",
       "  </tbody>\n",
       "</table>\n",
       "</div>"
      ],
      "text/plain": [
       "            AP  BLESS    Battig  ESSLI_2c  ESSLI_2b  ESSLI_1a       MEN  \\\n",
       "size                                                                      \n",
       "50    0.393035  0.570  0.246607  0.555556     0.775  0.704545  0.589676   \n",
       "100   0.383085  0.545  0.236857  0.577778     0.725  0.636364  0.576360   \n",
       "200   0.360697  0.560  0.227490  0.555556     0.750  0.636364  0.544992   \n",
       "300   0.378109  0.535  0.216402  0.577778     0.750  0.545455  0.518651   \n",
       "\n",
       "         WS353    WS353R    WS353S  SimLex999        RW      RG65     MTurk  \\\n",
       "size                                                                          \n",
       "50    0.498902  0.405434  0.611137   0.282026  0.159276  0.857318  0.487032   \n",
       "100   0.523017  0.415852  0.635522   0.313509  0.174390  0.856400  0.469393   \n",
       "200   0.532121  0.416982  0.625982   0.312688  0.175547  0.795052  0.434428   \n",
       "300   0.500512  0.373748  0.594770   0.322339  0.169607  0.786769  0.430643   \n",
       "\n",
       "        Google       MSR  SemEval2012_2  \n",
       "size                                     \n",
       "50    0.062884  0.048375       0.111238  \n",
       "100   0.086369  0.095125       0.107247  \n",
       "200   0.096705  0.119875       0.118042  \n",
       "300   0.101412  0.134000       0.104159  "
      ]
     },
     "execution_count": 67,
     "metadata": {},
     "output_type": "execute_result"
    }
   ],
   "source": [
    "joined_res.set_index('size', drop=True)"
   ]
  },
  {
   "cell_type": "code",
   "execution_count": 69,
   "metadata": {},
   "outputs": [],
   "source": [
    "joined_res.to_csv(DATA/\"speech2vec_benchmarks.csv\")"
   ]
  },
  {
   "cell_type": "code",
   "execution_count": null,
   "metadata": {},
   "outputs": [],
   "source": [
    "# function to load and compare against other just trained metrics"
   ]
  },
  {
   "cell_type": "markdown",
   "metadata": {},
   "source": [
    "## Evaluate benchmarks"
   ]
  },
  {
   "cell_type": "code",
   "execution_count": 77,
   "metadata": {},
   "outputs": [],
   "source": [
    "def evaluate_embedding(word2embedding):\n",
    "    \n",
    "    eval_embedding = Embedding(\n",
    "    Vocabulary([w.lower() for w in list(word2embedding_without_nans.keys())]),\n",
    "    np.array(list(word2embedding_without_nans.values())))\n",
    "    \n",
    "    res = evaluate_on_all(eval_embedding)"
   ]
  },
  {
   "cell_type": "code",
   "execution_count": 75,
   "metadata": {},
   "outputs": [],
   "source": [
    "size = 50\n",
    "benchmark = pd.read_csv(DATA/\"speech2vec_benchmarks.csv\").iloc[0]"
   ]
  },
  {
   "cell_type": "code",
   "execution_count": null,
   "metadata": {},
   "outputs": [],
   "source": [
    "# res = evaluate_embedding()"
   ]
  },
  {
   "cell_type": "code",
   "execution_count": null,
   "metadata": {},
   "outputs": [],
   "source": []
  }
 ],
 "metadata": {
  "kernelspec": {
   "display_name": "Python 3",
   "language": "python",
   "name": "python3"
  },
  "language_info": {
   "codemirror_mode": {
    "name": "ipython",
    "version": 3
   },
   "file_extension": ".py",
   "mimetype": "text/x-python",
   "name": "python",
   "nbconvert_exporter": "python",
   "pygments_lexer": "ipython3",
   "version": "3.6.9"
  }
 },
 "nbformat": 4,
 "nbformat_minor": 4
}
